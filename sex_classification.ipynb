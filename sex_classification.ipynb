{
 "cells": [
  {
   "cell_type": "markdown",
   "metadata": {},
   "source": [
    "## End to end sex classification code - PyTorch"
   ]
  },
  {
   "cell_type": "markdown",
   "metadata": {},
   "source": [
    "### necessary imports"
   ]
  },
  {
   "cell_type": "code",
   "execution_count": 11,
   "metadata": {},
   "outputs": [],
   "source": [
    "import os\n",
    "import logging\n",
    "import torch\n",
    "import torch.nn as nn\n",
    "import torch.nn.functional as F\n",
    "from sklearn.model_selection import train_test_split\n",
    "import numpy as np\n",
    "import logging\n",
    "import datetime\n",
    "import nibabel as nib\n",
    "import pandas as pd\n",
    "import seaborn as sns\n",
    "from sklearn.metrics import confusion_matrix, accuracy_score, recall_score\n",
    "import matplotlib.pyplot as plt\n",
    "from sklearn.model_selection import KFold\n",
    "from torch.utils.data import DataLoader, Subset, random_split, Dataset\n",
    "from torch.utils.data import *"
   ]
  },
  {
   "cell_type": "markdown",
   "metadata": {},
   "source": [
    "### Hyperparameters"
   ]
  },
  {
   "cell_type": "code",
   "execution_count": 12,
   "metadata": {},
   "outputs": [],
   "source": [
    "VAL_RATIO = 0.2\n",
    "TEST_RATIO = 0.2\n",
    "TRAIN_RATIO = 1 - VAL_RATIO - TEST_RATIO\n",
    "DATA_PARALELL = True\n",
    "DEVICE = torch.device(\"cuda\" if torch.cuda.is_available() else \"cpu\")\n",
    "DATASET = 'HCP'\n",
    "PHASE = 'TRAIN'\n",
    "K_FOLDS = 5\n",
    "\n",
    "TASK = 'classification'\n",
    "ROOT_DIR = '/data/ninad/fieldmaps/HCP_T1w'\n",
    "LABEL_DIR='/data/ninad/fieldmaps/HCPCN2mm.csv'\n",
    "LOG_DIR = '/home/neelamlab/ninad/DWI/logs'\n",
    "timestamp = datetime.datetime.now().strftime('%d_%m_%Y_%H_%M_%S')\n",
    "RESULT_DIR = f'/home/neelamlab/ninad/DWI/results/run_{timestamp}'\n",
    "os.makedirs(RESULT_DIR,exist_ok=True)\n",
    "TEST_BATCH_SIZE = 2\n",
    "\n",
    "BATCH_SIZE=16\n",
    "LEARNING_RATE=0.0001\n",
    "NUM_EPOCHS = 10\n",
    "EARLY_STOPPING_PATIENCE = 5\n",
    "\n",
    "NP_SEED = 42\n",
    "TORCH_SEED = 36"
   ]
  },
  {
   "cell_type": "markdown",
   "metadata": {},
   "source": [
    "### Setting the seed"
   ]
  },
  {
   "cell_type": "code",
   "execution_count": 13,
   "metadata": {},
   "outputs": [
    {
     "data": {
      "text/plain": [
       "<torch._C.Generator at 0x7f2ba03e9ab0>"
      ]
     },
     "execution_count": 13,
     "metadata": {},
     "output_type": "execute_result"
    }
   ],
   "source": [
    "np.random.seed(NP_SEED)\n",
    "torch.manual_seed(TORCH_SEED)"
   ]
  },
  {
   "cell_type": "markdown",
   "metadata": {},
   "source": [
    "### Setting up logger"
   ]
  },
  {
   "cell_type": "code",
   "execution_count": 14,
   "metadata": {},
   "outputs": [],
   "source": [
    "def setup_logger(logs_dir=LOG_DIR,dataset=None,phase=None):\n",
    "    os.makedirs(logs_dir, exist_ok=True)\n",
    "    logger = logging.getLogger('RunLogger')\n",
    "    logger.setLevel(logging.INFO)\n",
    "\n",
    "    if not logger.hasHandlers():\n",
    "        timestamp = datetime.datetime.now().strftime('%d_%m_%Y_%H_%M_%S')\n",
    "        file_handler = logging.FileHandler(os.path.join(logs_dir, f'{phase}_{dataset}_{timestamp}.log'))\n",
    "        formatter = logging.Formatter('%(asctime)s - %(levelname)s - %(message)s')\n",
    "        file_handler.setFormatter(formatter)\n",
    "        logger.addHandler(file_handler)\n",
    "    \n",
    "    return logger\n",
    "\n",
    "LOGGER = setup_logger(logs_dir=LOG_DIR,phase=PHASE,dataset=DATASET)"
   ]
  },
  {
   "cell_type": "markdown",
   "metadata": {},
   "source": [
    "### Dataset Class"
   ]
  },
  {
   "cell_type": "code",
   "execution_count": 15,
   "metadata": {},
   "outputs": [],
   "source": [
    "class Fieldmapdata(Dataset):\n",
    "    \"\"\"\n",
    "    Dataset class for loading neuroimaging data and associated labels for classification or regression tasks.\n",
    "\n",
    "    Attributes:\n",
    "        root_dir (str): Path to the directory containing image data files (.nii or .nii.gz).\n",
    "        label_dir (str): Path to the CSV file containing labels for each subject.\n",
    "        task (str): Specifies the task type: classification (Gender) or regression (Age).\n",
    "    \"\"\"\n",
    "    def __init__(self, root_dir, label_dir, task='classification'):\n",
    "        self.labels_df = self.load_labels(label_dir) #load the labels\n",
    "        self.samples = self.make_dataset(root_dir, task=task) #assign the labels to each file in the root_dir\n",
    "\n",
    "    def __len__(self):\n",
    "        return len(self.samples)\n",
    "\n",
    "    def __getitem__(self, idx):\n",
    "        img_path, label = self.samples[idx]\n",
    "        nifti_data = nib.load(img_path)\n",
    "        data = nifti_data.get_fdata()\n",
    "        image_tensor = torch.tensor(data, dtype=torch.float32).unsqueeze(0) #unsqueeze to add channel dimension\n",
    "        label_tensor = torch.tensor(label, dtype=torch.float32).unsqueeze(0)\n",
    "        return image_tensor, label_tensor\n",
    "       \n",
    "    def make_dataset(self, root_dir, task = None):\n",
    "        samples = []\n",
    "        labels_df = self.labels_df\n",
    "        for root, _, fnames in os.walk(root_dir):\n",
    "            for fname in fnames:\n",
    "                if fname.endswith(\".nii.gz\") or fname.endswith(\".nii\"):\n",
    "                    path = os.path.join(root, fname)\n",
    "                    id_ = self.extract_id_from_filename(fname)\n",
    "                    try:\n",
    "                        if task == 'regression': \n",
    "                            label = labels_df[labels_df['Subject'] == id_]['Age'].iloc[0] \n",
    "                        if task == 'classification': \n",
    "                            label = labels_df[labels_df['Subject'] == id_]['Gender'].iloc[0]\n",
    "                        samples.append((path, label))\n",
    "                    except:\n",
    "                        continue\n",
    "        return samples\n",
    "    \n",
    "    def extract_id_from_filename(self, fname):\n",
    "        '''match the filename to key to query in the labels dictionary'''\n",
    "        fname = fname.replace(\"sub-\",\"\")\n",
    "        if fname.endswith(\"_ad.nii.gz\"):\n",
    "            id_ = fname.replace(\"_ad.nii.gz\", \"\")\n",
    "        elif fname.endswith(\"_rd.nii.gz\"):\n",
    "            id_ = fname.replace(\"_rd.nii.gz\", \"\")\n",
    "        elif fname.endswith(\"_adc.nii.gz\"):\n",
    "            id_ = fname.replace(\"_adc.nii.gz\", \"\")\n",
    "        elif fname.endswith(\"_fa.nii.gz\"):\n",
    "            id_ = fname.replace(\"_fa.nii.gz\", \"\")\n",
    "        elif fname.endswith(\".nii.gz\"):\n",
    "            id_ = fname.replace(\".nii.gz\", \"\")\n",
    "        return id_\n",
    "\n",
    "    def load_labels(self, label_path):\n",
    "        '''tip: use astype(required datatype)'''\n",
    "        df = pd.read_csv(label_path)\n",
    "        df_filtered = df[['Subject', 'Gender', 'Age']].copy()\n",
    "        df_filtered['Gender'] = df_filtered['Gender'].map({'M': 0, 'F': 1}).astype(int)\n",
    "        df_filtered['Age'] = df_filtered['Age'].apply(lambda x: (int(x.split('-')[0]) + int(x.split('-')[1])) // 2 if '-' in x else int(x[:-1])).astype(float)\n",
    "        # In HCP-Y age is a bin of 4 years, here i can assigning the average value of the bin range to each subject\n",
    "        df_filtered['Subject'] = df_filtered['Subject'].astype(str)\n",
    "        return df_filtered"
   ]
  },
  {
   "cell_type": "markdown",
   "metadata": {},
   "source": [
    "### Create the dataset and split into training and testing"
   ]
  },
  {
   "cell_type": "code",
   "execution_count": 17,
   "metadata": {},
   "outputs": [],
   "source": [
    "dataset = Fieldmapdata(root_dir=ROOT_DIR,label_dir=LABEL_DIR,task=TASK)\n",
    "train_dataset, val_dataset, test_dataset = random_split(dataset, [TRAIN_RATIO, VAL_RATIO, TEST_RATIO])"
   ]
  },
  {
   "cell_type": "markdown",
   "metadata": {},
   "source": [
    "### Dataloder"
   ]
  },
  {
   "cell_type": "code",
   "execution_count": 18,
   "metadata": {},
   "outputs": [],
   "source": [
    "train_dl = DataLoader(train_dataset, batch_size=BATCH_SIZE, shuffle=True)\n",
    "val_dl = DataLoader(val_dataset, batch_size=BATCH_SIZE, shuffle=False)\n",
    "test_dl = DataLoader(test_dataset, batch_size=TEST_BATCH_SIZE, shuffle=False)"
   ]
  },
  {
   "cell_type": "markdown",
   "metadata": {},
   "source": [
    "### Comparing the shape of image at each stage"
   ]
  },
  {
   "cell_type": "code",
   "execution_count": 19,
   "metadata": {},
   "outputs": [
    {
     "name": "stdout",
     "output_type": "stream",
     "text": [
      "Raw image shape (91, 109, 91) \n",
      "Train image shape torch.Size([1, 91, 109, 91]) \n",
      "Batch shape torch.Size([16, 1, 91, 109, 91])\n"
     ]
    }
   ],
   "source": [
    "RANDOM_IMAGE_PATH = '/data/ninad/fieldmaps/HCP_T1w/sub-100610.nii.gz'\n",
    "raw_image = nib.load(RANDOM_IMAGE_PATH).get_fdata()\n",
    "train_image = train_dataset.__getitem__(1)[0]\n",
    "train_batch = next(iter(train_dl))\n",
    "\n",
    "print('Raw image shape',raw_image.shape,'\\n' 'Train image shape', train_image.shape,'\\n' 'Batch shape',train_batch[0].shape)"
   ]
  },
  {
   "cell_type": "markdown",
   "metadata": {},
   "source": [
    "### Stratify the labels for classification"
   ]
  },
  {
   "cell_type": "code",
   "execution_count": 20,
   "metadata": {},
   "outputs": [],
   "source": [
    "def stratified_split_classification(dataset, test_size):\n",
    "    labels = [dataset[i][-1] for i in range(len(dataset))]  # Assuming label is the last element\n",
    "    # cannot access sample variable for all instances, will thorw AttributeError: 'Subset' object has no attribute 'samples'\n",
    "    train_indices, test_indices = train_test_split(\n",
    "        range(dataset.__len__()), test_size=test_size, stratify=labels\n",
    "    )\n",
    "    train_ds = Subset(dataset, train_indices)\n",
    "    test_ds = Subset(dataset, test_indices)\n",
    "    return train_ds, test_ds\n",
    "\n",
    "def splitting_data(dataset, TEST_RATIO: float, stratify: bool=False):\n",
    "    if stratify:\n",
    "        train_ds, test_ds = stratified_split_classification(dataset, TEST_RATIO)\n",
    "    else:\n",
    "        train_ds, test_ds = random_split(dataset, [1-TEST_RATIO, TEST_RATIO])\n",
    "    return train_ds, test_ds"
   ]
  },
  {
   "cell_type": "code",
   "execution_count": 21,
   "metadata": {},
   "outputs": [],
   "source": [
    "train_and_val_ds, test_ds = stratified_split_classification(dataset, test_size=TEST_RATIO)\n",
    "train_ds, val_ds = stratified_split_classification(train_and_val_ds, test_size=VAL_RATIO)\n",
    "LOGGER.info('Data split completed !!')"
   ]
  },
  {
   "cell_type": "markdown",
   "metadata": {},
   "source": [
    "### verifying"
   ]
  },
  {
   "cell_type": "code",
   "execution_count": 22,
   "metadata": {},
   "outputs": [
    {
     "name": "stdout",
     "output_type": "stream",
     "text": [
      "Phase Train, total: 542, ratio: tensor([0.8007])\n",
      "Phase Val, total: 136, ratio: tensor([0.7895])\n",
      "Phase Test, total: 170, ratio: tensor([0.7895])\n"
     ]
    }
   ],
   "source": [
    "dataset_labels = []\n",
    "for ds in [train_ds, val_ds, test_ds]:\n",
    "    labels = []\n",
    "    for i, j in ds:\n",
    "        labels.append(j)\n",
    "    dataset_labels.append(labels)\n",
    "    \n",
    "for num, phase in enumerate(['Train', 'Val', 'Test']):\n",
    "    Total_subjects = len(dataset_labels[num]), \n",
    "    males_count = len(dataset_labels[num]) - sum(dataset_labels[num])\n",
    "    females_count = sum(dataset_labels[num]), \n",
    "    ratio = (len(dataset_labels[num]) - sum(dataset_labels[num])) / sum(dataset_labels[num])\n",
    "    print(f'Phase {phase}, total: {Total_subjects[0]}, ratio: {ratio}')"
   ]
  },
  {
   "cell_type": "code",
   "execution_count": 23,
   "metadata": {},
   "outputs": [],
   "source": [
    "train_dl = DataLoader(train_dataset, batch_size=BATCH_SIZE, shuffle=True)\n",
    "val_dl = DataLoader(val_dataset, batch_size=BATCH_SIZE, shuffle=False)\n",
    "test_dl = DataLoader(test_dataset, batch_size=TEST_BATCH_SIZE, shuffle=False)"
   ]
  },
  {
   "cell_type": "markdown",
   "metadata": {},
   "source": [
    "### My dataloder function"
   ]
  },
  {
   "cell_type": "code",
   "execution_count": 13,
   "metadata": {},
   "outputs": [],
   "source": [
    "def prepare_dataloader(dataset: Dataset, batch_size: int, num_workers: int = 4):\n",
    "    return DataLoader(\n",
    "        dataset,\n",
    "        batch_size=batch_size, # hyperparameter, 8 is good, (lower batch size fine grain details)\n",
    "        pin_memory=True, # proved to be faster while using DDP\n",
    "        shuffle=False, #shuffle is mutually exclusive with distributed sampler\n",
    "        num_workers=num_workers, # 4, CPUs used to deliver the data to GPU, higher value --> better GPU utilisation, does not guarrentee faster epoch\n",
    "        sampler=DistributedSampler(dataset) #required for DDP\n",
    "    )"
   ]
  },
  {
   "cell_type": "markdown",
   "metadata": {},
   "source": [
    "### model"
   ]
  },
  {
   "cell_type": "code",
   "execution_count": 24,
   "metadata": {},
   "outputs": [],
   "source": [
    "'''copied from https://github.com/ha-ha-ha-han/UKBiobank_deep_pretrain/blob/master/dp_model/model_files/sfcn.py'''\n",
    "'''This code is hardcoded for a specific input shape: ie. [batch_size, 1, 160, 192, 160]'''\n",
    "\n",
    "class SFCN(nn.Module):\n",
    "    def __init__(self, channel_number=[32, 64, 128, 256, 256, 64], output_dim=1, dropout=True): #default output_dim changed from 40 to 1\n",
    "        super(SFCN, self).__init__()\n",
    "        n_layer = len(channel_number)\n",
    "        self.feature_extractor = nn.Sequential()\n",
    "        for i in range(n_layer):\n",
    "            if i == 0:\n",
    "                in_channel = 1\n",
    "            else:\n",
    "                in_channel = channel_number[i-1]\n",
    "            out_channel = channel_number[i]\n",
    "            if i < n_layer-1:\n",
    "                self.feature_extractor.add_module('conv_%d' % i,\n",
    "                                                  self.conv_layer(in_channel,\n",
    "                                                                  out_channel,\n",
    "                                                                  maxpool=True,\n",
    "                                                                  kernel_size=3,\n",
    "                                                                  padding=1))\n",
    "            else:\n",
    "                self.feature_extractor.add_module('conv_%d' % i,\n",
    "                                                  self.conv_layer(in_channel,\n",
    "                                                                  out_channel,\n",
    "                                                                  maxpool=False,\n",
    "                                                                  kernel_size=1,\n",
    "                                                                  padding=0))\n",
    "        self.classifier = nn.Sequential()\n",
    "        ############################## Hard coded ####################################### \n",
    "        #avg_shape = [5, 6, 5] \n",
    "        #self.classifier.add_module('average_pool', nn.AvgPool3d(avg_shape))\n",
    "        ############################## Hard coded ####################################### \n",
    "\n",
    "        ############################## Change ####################################### \n",
    "        self.classifier.add_module('average_pool', nn.AdaptiveAvgPool3d(1))\n",
    "        ############################## Change ####################################### \n",
    "\n",
    "        if dropout is True:\n",
    "            self.classifier.add_module('dropout', nn.Dropout(0.5))\n",
    "        i = n_layer\n",
    "        in_channel = channel_number[-1]\n",
    "        out_channel = output_dim\n",
    "        self.classifier.add_module('conv_%d' % i,\n",
    "                                   nn.Conv3d(in_channel, out_channel, padding=0, kernel_size=1))\n",
    "\n",
    "    @staticmethod\n",
    "    def conv_layer(in_channel, out_channel, maxpool=True, kernel_size=3, padding=0, maxpool_stride=2):\n",
    "        if maxpool is True:\n",
    "            layer = nn.Sequential(\n",
    "                nn.Conv3d(in_channel, out_channel, padding=padding, kernel_size=kernel_size),\n",
    "                nn.BatchNorm3d(out_channel),\n",
    "                nn.MaxPool3d(2, stride=maxpool_stride),\n",
    "                nn.ReLU(),\n",
    "            )\n",
    "        else:\n",
    "            layer = nn.Sequential(\n",
    "                nn.Conv3d(in_channel, out_channel, padding=padding, kernel_size=kernel_size),\n",
    "                nn.BatchNorm3d(out_channel),\n",
    "                nn.ReLU()\n",
    "            )\n",
    "        return layer\n",
    "\n",
    "    def forward_original (self, x):\n",
    "        out = list()\n",
    "        x_f = self.feature_extractor(x)\n",
    "        x = self.classifier(x_f)\n",
    "        x = F.log_softmax(x, dim=1)\n",
    "        out.append(x)\n",
    "        return out\n",
    "    \n",
    "    def forward(self, x):\n",
    "        '''Instead of list output datatype i prefer tensor and as we are performing Binary classification / Regression, we will not apply softmax'''\n",
    "        # print('In shape', x.shape)\n",
    "        x_f = self.feature_extractor(x)\n",
    "        # print('After feature extraction module shape', x_f.shape)\n",
    "        x = self.classifier(x_f)\n",
    "        # print('After classification module shape', x.shape)\n",
    "        x = x.view(x.size(0), -1) #flattening\n",
    "        # print('After Flattening shape', x.shape)\n",
    "        return x"
   ]
  },
  {
   "cell_type": "code",
   "execution_count": 25,
   "metadata": {},
   "outputs": [
    {
     "data": {
      "text/plain": [
       "==========================================================================================\n",
       "Layer (type:depth-idx)                   Output Shape              Param #\n",
       "==========================================================================================\n",
       "SFCN                                     [16, 1]                   --\n",
       "├─Sequential: 1-1                        [16, 64, 2, 3, 2]         --\n",
       "│    └─Sequential: 2-1                   [16, 32, 45, 54, 45]      --\n",
       "│    │    └─Conv3d: 3-1                  [16, 32, 91, 109, 91]     896\n",
       "│    │    └─BatchNorm3d: 3-2             [16, 32, 91, 109, 91]     64\n",
       "│    │    └─MaxPool3d: 3-3               [16, 32, 45, 54, 45]      --\n",
       "│    │    └─ReLU: 3-4                    [16, 32, 45, 54, 45]      --\n",
       "│    └─Sequential: 2-2                   [16, 64, 22, 27, 22]      --\n",
       "│    │    └─Conv3d: 3-5                  [16, 64, 45, 54, 45]      55,360\n",
       "│    │    └─BatchNorm3d: 3-6             [16, 64, 45, 54, 45]      128\n",
       "│    │    └─MaxPool3d: 3-7               [16, 64, 22, 27, 22]      --\n",
       "│    │    └─ReLU: 3-8                    [16, 64, 22, 27, 22]      --\n",
       "│    └─Sequential: 2-3                   [16, 128, 11, 13, 11]     --\n",
       "│    │    └─Conv3d: 3-9                  [16, 128, 22, 27, 22]     221,312\n",
       "│    │    └─BatchNorm3d: 3-10            [16, 128, 22, 27, 22]     256\n",
       "│    │    └─MaxPool3d: 3-11              [16, 128, 11, 13, 11]     --\n",
       "│    │    └─ReLU: 3-12                   [16, 128, 11, 13, 11]     --\n",
       "│    └─Sequential: 2-4                   [16, 256, 5, 6, 5]        --\n",
       "│    │    └─Conv3d: 3-13                 [16, 256, 11, 13, 11]     884,992\n",
       "│    │    └─BatchNorm3d: 3-14            [16, 256, 11, 13, 11]     512\n",
       "│    │    └─MaxPool3d: 3-15              [16, 256, 5, 6, 5]        --\n",
       "│    │    └─ReLU: 3-16                   [16, 256, 5, 6, 5]        --\n",
       "│    └─Sequential: 2-5                   [16, 256, 2, 3, 2]        --\n",
       "│    │    └─Conv3d: 3-17                 [16, 256, 5, 6, 5]        1,769,728\n",
       "│    │    └─BatchNorm3d: 3-18            [16, 256, 5, 6, 5]        512\n",
       "│    │    └─MaxPool3d: 3-19              [16, 256, 2, 3, 2]        --\n",
       "│    │    └─ReLU: 3-20                   [16, 256, 2, 3, 2]        --\n",
       "│    └─Sequential: 2-6                   [16, 64, 2, 3, 2]         --\n",
       "│    │    └─Conv3d: 3-21                 [16, 64, 2, 3, 2]         16,448\n",
       "│    │    └─BatchNorm3d: 3-22            [16, 64, 2, 3, 2]         128\n",
       "│    │    └─ReLU: 3-23                   [16, 64, 2, 3, 2]         --\n",
       "├─Sequential: 1-2                        [16, 1, 1, 1, 1]          --\n",
       "│    └─AdaptiveAvgPool3d: 2-7            [16, 64, 1, 1, 1]         --\n",
       "│    └─Dropout: 2-8                      [16, 64, 1, 1, 1]         --\n",
       "│    └─Conv3d: 2-9                       [16, 1, 1, 1, 1]          65\n",
       "==========================================================================================\n",
       "Total params: 2,950,401\n",
       "Trainable params: 2,950,401\n",
       "Non-trainable params: 0\n",
       "Total mult-adds (Units.GIGABYTES): 182.60\n",
       "==========================================================================================\n",
       "Input size (MB): 57.77\n",
       "Forward/backward pass size (MB): 9727.25\n",
       "Params size (MB): 11.80\n",
       "Estimated Total Size (MB): 9796.82\n",
       "=========================================================================================="
      ]
     },
     "execution_count": 25,
     "metadata": {},
     "output_type": "execute_result"
    }
   ],
   "source": [
    "from torchinfo import summary\n",
    "model = SFCN()\n",
    "summary(model=model, input_size=(16,1,91,109,91))"
   ]
  },
  {
   "cell_type": "markdown",
   "metadata": {},
   "source": [
    "### Model, Optimiser, Loss etc"
   ]
  },
  {
   "cell_type": "code",
   "execution_count": 26,
   "metadata": {},
   "outputs": [],
   "source": [
    "model = SFCN().to(DEVICE)\n",
    "optimizer = torch.optim.Adam(model.parameters(), lr=LEARNING_RATE)\n",
    "criterion = nn.BCEWithLogitsLoss() \n",
    "# criterion2 = nn.BCEWithLogitsLoss(pos_weight=torch.tensor(1.28,dtype=torch.float32)) # Total subjects: 899 Number of males : 395, number of females: 504, pos_weight = 1.2759493670886075\n",
    "# Females are class 1, ratio of class to class 0 --> 504/395 = 1.27\n",
    "# if using cross entropy loss / BCEloss instead of BCEwothlogits loss remember to use sigmoid / softmax"
   ]
  },
  {
   "cell_type": "markdown",
   "metadata": {},
   "source": [
    "### simpler train/val loop"
   ]
  },
  {
   "cell_type": "code",
   "execution_count": 27,
   "metadata": {},
   "outputs": [
    {
     "name": "stdout",
     "output_type": "stream",
     "text": [
      "Epoch [1/10]: Train Loss: 1.2264 Train Accu: 66.01% Val Loss: 1.3759 Val Accu: 56.47%\n",
      "Epoch [2/10]: Train Loss: 0.9750 Train Accu: 80.94% Val Loss: 2.1438 Val Accu: 56.47%\n",
      "Epoch [3/10]: Train Loss: 0.7570 Train Accu: 89.78% Val Loss: 1.6919 Val Accu: 56.47%\n",
      "Epoch [4/10]: Train Loss: 0.6767 Train Accu: 92.73% Val Loss: 0.4865 Val Accu: 57.06%\n",
      "Epoch [5/10]: Train Loss: 0.5644 Train Accu: 95.48% Val Loss: 1.0497 Val Accu: 56.47%\n",
      "Epoch [6/10]: Train Loss: 0.4637 Train Accu: 98.82% Val Loss: 0.8312 Val Accu: 57.06%\n",
      "Epoch [7/10]: Train Loss: 0.3794 Train Accu: 99.61% Val Loss: 0.6105 Val Accu: 45.88%\n",
      "Epoch [8/10]: Train Loss: 0.3283 Train Accu: 100.00% Val Loss: 0.5350 Val Accu: 60.00%\n",
      "Epoch [9/10]: Train Loss: 0.2846 Train Accu: 100.00% Val Loss: 0.4364 Val Accu: 61.18%\n",
      "Epoch [10/10]: Train Loss: 0.2597 Train Accu: 100.00% Val Loss: 0.8957 Val Accu: 57.06%\n"
     ]
    }
   ],
   "source": [
    "train_losses, val_losses = [], []\n",
    "train_accuracies, val_accuracies = [], []\n",
    "\n",
    "for epoch in range(NUM_EPOCHS):\n",
    "    model.train()\n",
    "    train_loss = 0.0\n",
    "    train_total = 0\n",
    "    train_correct = 0\n",
    "\n",
    "    for inputs, labels in train_dl:\n",
    "        inputs = inputs.to(DEVICE)\n",
    "        labels = labels.to(DEVICE)\n",
    "        optimizer.zero_grad()\n",
    "        outputs = model(inputs)\n",
    "        tloss = criterion(outputs, labels)\n",
    "        tloss.backward()\n",
    "        optimizer.step()\n",
    "        train_loss += tloss.item() / inputs.size(0)\n",
    "        probability = torch.sigmoid(outputs) # during inference you have to apply sigmoid\n",
    "        predicted = (probability >= 0.5).float()\n",
    "        train_total += labels.size(0)\n",
    "        train_correct += (predicted == labels).sum().item()\n",
    "\n",
    "    train_accuracy = 100 * train_correct / train_total\n",
    "    train_accuracies.append(train_accuracy)\n",
    "    train_losses.append(train_loss)\n",
    "\n",
    "    model.eval()\n",
    "    val_loss = 0.0\n",
    "    val_total = 0\n",
    "    val_correct = 0\n",
    "\n",
    "    with torch.no_grad():\n",
    "        for inputs, labels in val_dl:\n",
    "            inputs = inputs.to(DEVICE)\n",
    "            labels = labels.to(DEVICE)\n",
    "            outputs = model(inputs)\n",
    "            vloss = criterion(outputs, labels)\n",
    "            val_loss += vloss.item() / inputs.size(0)\n",
    "            probability = torch.sigmoid(outputs)\n",
    "            predicted = (probability >= 0.5).float()\n",
    "            val_total += labels.size(0)\n",
    "            val_correct += (predicted == labels).sum().item()\n",
    "\n",
    "        val_accuracy = 100 * val_correct / val_total\n",
    "        val_accuracies.append(val_accuracy)\n",
    "        val_losses.append(val_loss)\n",
    "\n",
    "        print(f\"Epoch [{epoch+1}/{NUM_EPOCHS}]: Train Loss: {train_loss:.4f} Train Accu: {train_accuracy:.2f}% Val Loss: {val_loss:.4f} Val Accu: {val_accuracy:.2f}%\")\n",
    "        LOGGER.info(f\"Epoch [{epoch+1}/{NUM_EPOCHS}]: Train Loss: {train_loss:.4f} Train Accu: {train_accuracy:.4f} Val Loss: {val_loss:.4f} Val Accu: {val_accuracy:.4f}\")\n",
    "torch.save(model.state_dict(),'best_model.pt')"
   ]
  },
  {
   "cell_type": "code",
   "execution_count": 18,
   "metadata": {},
   "outputs": [
    {
     "data": {
      "text/plain": [
       "<All keys matched successfully>"
      ]
     },
     "execution_count": 18,
     "metadata": {},
     "output_type": "execute_result"
    }
   ],
   "source": [
    "best_model = SFCN()\n",
    "# best_model.load_state_dict('best_model.pt')\n",
    "\n",
    "#using the above model for now\n",
    "new_state_dict = {}\n",
    "for key, value in model.state_dict().items():\n",
    "    new_key = key.replace(\"module.\", \"\")\n",
    "    new_state_dict[new_key] = value\n",
    "best_model.load_state_dict(new_state_dict)"
   ]
  },
  {
   "cell_type": "code",
   "execution_count": 19,
   "metadata": {},
   "outputs": [
    {
     "name": "stdout",
     "output_type": "stream",
     "text": [
      "TEST LOSS: 42.06333679519594, TEST ACCURACY: 55.62130177514793\n",
      "Accuracy: 0.5562130177514792, Sensitivity (Recall): 1.0\n",
      "CM:  [[ 1 75]\n",
      " [ 0 93]]\n"
     ]
    },
    {
     "data": {
      "image/png": "[encoded data removed]",
      "text/plain": [
       "<Figure size 800x600 with 2 Axes>"
      ]
     },
     "metadata": {},
     "output_type": "display_data"
    }
   ],
   "source": [
    "best_model.to(DEVICE)\n",
    "best_model.eval()\n",
    "test_loss = 0.0\n",
    "test_total = 0\n",
    "test_correct = 0\n",
    "\n",
    "with torch.no_grad():\n",
    "    all_predicted = []\n",
    "    all_labels = []\n",
    "    for inputs, labels in test_dl:\n",
    "        inputs = inputs.to(DEVICE)\n",
    "        labels = labels.to(DEVICE)\n",
    "        \n",
    "        outputs = best_model(inputs)\n",
    "        te_loss = criterion(outputs, labels)\n",
    "        test_loss += te_loss.item()/inputs.size(0)\n",
    "        probability = torch.sigmoid(outputs)\n",
    "        predicted = (probability >= 0.5).float()\n",
    "        all_predicted.extend(predicted.cpu().numpy().ravel().tolist())\n",
    "        all_labels.extend(labels.cpu().numpy().ravel().tolist())\n",
    "        test_total += labels.size(0)\n",
    "        test_correct += (predicted == labels).sum().item()\n",
    "\n",
    "    test_accuracy = 100 * test_correct / test_total\n",
    "\n",
    "print(f\"TEST LOSS: {test_loss}, TEST ACCURACY: {test_accuracy}\")\n",
    "LOGGER.info(f\"TEST LOSS: {test_loss}, TEST ACCURACY: {test_accuracy}\")\n",
    "accuracy = accuracy_score(all_labels, all_predicted)\n",
    "sensitivity = recall_score(all_labels, all_predicted)\n",
    "print(f'Accuracy: {accuracy}, Sensitivity (Recall): {sensitivity}')\n",
    "LOGGER.info(f'Accuracy: {accuracy}, Sensitivity (Recall): {sensitivity}')\n",
    "\n",
    "cm = confusion_matrix(all_labels, all_predicted)\n",
    "print('CM: ',cm)\n",
    "LOGGER.info(f\"CM : {cm}\")\n",
    "plt.figure(figsize=(8, 6))\n",
    "sns.heatmap(cm, annot=True, fmt=\"d\", cmap=\"Blues\",xticklabels=['Male', 'Female'], yticklabels=['Male', 'Female'])\n",
    "plt.title('Confusion Matrix')\n",
    "plt.xlabel('Predicted')\n",
    "plt.ylabel('True')\n",
    "plt.savefig('cm.png')"
   ]
  },
  {
   "cell_type": "markdown",
   "metadata": {},
   "source": [
    "### K-Fold Cross Validation for Training with early stopping"
   ]
  },
  {
   "cell_type": "code",
   "execution_count": 20,
   "metadata": {},
   "outputs": [
    {
     "name": "stdout",
     "output_type": "stream",
     "text": [
      "Fold 1/5\n"
     ]
    },
    {
     "name": "stdout",
     "output_type": "stream",
     "text": [
      "Fold [1/5], Epoch [1/10]: Train Loss: 1.1027 Train Accu: 65.11% Val Loss: 1.1186 Val Accu: 50.98%\n",
      "Fold [1/5], Epoch [2/10]: Train Loss: 1.0359 Train Accu: 69.29% Val Loss: 1.2397 Val Accu: 50.98%\n",
      "Fold [1/5], Epoch [3/10]: Train Loss: 0.9748 Train Accu: 69.04% Val Loss: 0.2247 Val Accu: 82.35%\n",
      "Fold [1/5], Epoch [4/10]: Train Loss: 0.9140 Train Accu: 76.90% Val Loss: 0.8988 Val Accu: 50.98%\n",
      "Fold [1/5], Epoch [5/10]: Train Loss: 0.8699 Train Accu: 76.41% Val Loss: 0.6120 Val Accu: 50.98%\n",
      "Fold [1/5], Epoch [6/10]: Train Loss: 0.7704 Train Accu: 83.05% Val Loss: 1.0548 Val Accu: 50.98%\n",
      "Fold [1/5], Epoch [7/10]: Train Loss: 0.8332 Train Accu: 77.89% Val Loss: 0.2202 Val Accu: 77.45%\n",
      "Fold [1/5], Epoch [8/10]: Train Loss: 0.7286 Train Accu: 84.77% Val Loss: 0.2578 Val Accu: 71.57%\n",
      "Fold [1/5], Epoch [9/10]: Train Loss: 0.7944 Train Accu: 80.84% Val Loss: 1.3172 Val Accu: 49.02%\n",
      "Fold [1/5], Epoch [10/10]: Train Loss: 0.7981 Train Accu: 79.85% Val Loss: 1.7724 Val Accu: 50.98%\n",
      "Fold 2/5\n",
      "Fold [2/5], Epoch [1/10]: Train Loss: 1.0929 Train Accu: 63.14% Val Loss: 1.0021 Val Accu: 52.94%\n",
      "Fold [2/5], Epoch [2/10]: Train Loss: 1.0073 Train Accu: 69.53% Val Loss: 1.2241 Val Accu: 52.94%\n",
      "Fold [2/5], Epoch [3/10]: Train Loss: 0.9256 Train Accu: 75.68% Val Loss: 1.0209 Val Accu: 52.94%\n",
      "Fold [2/5], Epoch [4/10]: Train Loss: 0.9505 Train Accu: 73.71% Val Loss: 0.9707 Val Accu: 47.06%\n",
      "Fold [2/5], Epoch [5/10]: Train Loss: 0.8162 Train Accu: 78.62% Val Loss: 0.9718 Val Accu: 52.94%\n",
      "Fold [2/5], Epoch [6/10]: Train Loss: 0.7941 Train Accu: 81.57% Val Loss: 0.5404 Val Accu: 57.84%\n",
      "Fold [2/5], Epoch [7/10]: Train Loss: 0.8598 Train Accu: 75.68% Val Loss: 0.3460 Val Accu: 60.78%\n",
      "Fold [2/5], Epoch [8/10]: Train Loss: 0.8215 Train Accu: 76.41% Val Loss: 0.1649 Val Accu: 92.16%\n",
      "Fold [2/5], Epoch [9/10]: Train Loss: 0.7269 Train Accu: 85.50% Val Loss: 0.2481 Val Accu: 73.53%\n",
      "Fold [2/5], Epoch [10/10]: Train Loss: 0.7155 Train Accu: 85.50% Val Loss: 0.1645 Val Accu: 95.10%\n",
      "Fold 3/5\n",
      "Fold [3/5], Epoch [1/10]: Train Loss: 1.1076 Train Accu: 64.62% Val Loss: 0.8082 Val Accu: 56.86%\n",
      "Fold [3/5], Epoch [2/10]: Train Loss: 1.0293 Train Accu: 71.74% Val Loss: 1.1901 Val Accu: 56.86%\n",
      "Fold [3/5], Epoch [3/10]: Train Loss: 0.9747 Train Accu: 73.22% Val Loss: 0.5200 Val Accu: 56.86%\n"
     ]
    },
    {
     "ename": "KeyboardInterrupt",
     "evalue": "",
     "output_type": "error",
     "traceback": [
      "\u001b[0;31m---------------------------------------------------------------------------\u001b[0m",
      "\u001b[0;31mKeyboardInterrupt\u001b[0m                         Traceback (most recent call last)",
      "Cell \u001b[0;32mIn[20], line 32\u001b[0m\n\u001b[1;32m     29\u001b[0m train_total \u001b[38;5;241m=\u001b[39m \u001b[38;5;241m0\u001b[39m\n\u001b[1;32m     30\u001b[0m train_correct \u001b[38;5;241m=\u001b[39m \u001b[38;5;241m0\u001b[39m\n\u001b[0;32m---> 32\u001b[0m \u001b[43m\u001b[49m\u001b[38;5;28;43;01mfor\u001b[39;49;00m\u001b[43m \u001b[49m\u001b[43minputs\u001b[49m\u001b[43m,\u001b[49m\u001b[43m \u001b[49m\u001b[43mlabels\u001b[49m\u001b[43m \u001b[49m\u001b[38;5;129;43;01min\u001b[39;49;00m\u001b[43m \u001b[49m\u001b[43mtrain_dl\u001b[49m\u001b[43m:\u001b[49m\n\u001b[1;32m     33\u001b[0m \u001b[43m    \u001b[49m\u001b[43minputs\u001b[49m\u001b[43m \u001b[49m\u001b[38;5;241;43m=\u001b[39;49m\u001b[43m \u001b[49m\u001b[43minputs\u001b[49m\u001b[38;5;241;43m.\u001b[39;49m\u001b[43mto\u001b[49m\u001b[43m(\u001b[49m\u001b[43mDEVICE\u001b[49m\u001b[43m)\u001b[49m\n\u001b[1;32m     34\u001b[0m \u001b[43m    \u001b[49m\u001b[43mlabels\u001b[49m\u001b[43m \u001b[49m\u001b[38;5;241;43m=\u001b[39;49m\u001b[43m \u001b[49m\u001b[43mlabels\u001b[49m\u001b[38;5;241;43m.\u001b[39;49m\u001b[43mto\u001b[49m\u001b[43m(\u001b[49m\u001b[43mDEVICE\u001b[49m\u001b[43m)\u001b[49m\n",
      "File \u001b[0;32m~/anaconda3/envs/ninad/lib/python3.12/site-packages/torch/utils/data/dataloader.py:630\u001b[0m, in \u001b[0;36m_BaseDataLoaderIter.__next__\u001b[0;34m(self)\u001b[0m\n\u001b[1;32m    627\u001b[0m \u001b[38;5;28;01mif\u001b[39;00m \u001b[38;5;28mself\u001b[39m\u001b[38;5;241m.\u001b[39m_sampler_iter \u001b[38;5;129;01mis\u001b[39;00m \u001b[38;5;28;01mNone\u001b[39;00m:\n\u001b[1;32m    628\u001b[0m     \u001b[38;5;66;03m# TODO(https://github.com/pytorch/pytorch/issues/76750)\u001b[39;00m\n\u001b[1;32m    629\u001b[0m     \u001b[38;5;28mself\u001b[39m\u001b[38;5;241m.\u001b[39m_reset()  \u001b[38;5;66;03m# type: ignore[call-arg]\u001b[39;00m\n\u001b[0;32m--> 630\u001b[0m data \u001b[38;5;241m=\u001b[39m \u001b[38;5;28;43mself\u001b[39;49m\u001b[38;5;241;43m.\u001b[39;49m\u001b[43m_next_data\u001b[49m\u001b[43m(\u001b[49m\u001b[43m)\u001b[49m\n\u001b[1;32m    631\u001b[0m \u001b[38;5;28mself\u001b[39m\u001b[38;5;241m.\u001b[39m_num_yielded \u001b[38;5;241m+\u001b[39m\u001b[38;5;241m=\u001b[39m \u001b[38;5;241m1\u001b[39m\n\u001b[1;32m    632\u001b[0m \u001b[38;5;28;01mif\u001b[39;00m \u001b[38;5;28mself\u001b[39m\u001b[38;5;241m.\u001b[39m_dataset_kind \u001b[38;5;241m==\u001b[39m _DatasetKind\u001b[38;5;241m.\u001b[39mIterable \u001b[38;5;129;01mand\u001b[39;00m \\\n\u001b[1;32m    633\u001b[0m         \u001b[38;5;28mself\u001b[39m\u001b[38;5;241m.\u001b[39m_IterableDataset_len_called \u001b[38;5;129;01mis\u001b[39;00m \u001b[38;5;129;01mnot\u001b[39;00m \u001b[38;5;28;01mNone\u001b[39;00m \u001b[38;5;129;01mand\u001b[39;00m \\\n\u001b[1;32m    634\u001b[0m         \u001b[38;5;28mself\u001b[39m\u001b[38;5;241m.\u001b[39m_num_yielded \u001b[38;5;241m>\u001b[39m \u001b[38;5;28mself\u001b[39m\u001b[38;5;241m.\u001b[39m_IterableDataset_len_called:\n",
      "File \u001b[0;32m~/anaconda3/envs/ninad/lib/python3.12/site-packages/torch/utils/data/dataloader.py:673\u001b[0m, in \u001b[0;36m_SingleProcessDataLoaderIter._next_data\u001b[0;34m(self)\u001b[0m\n\u001b[1;32m    671\u001b[0m \u001b[38;5;28;01mdef\u001b[39;00m \u001b[38;5;21m_next_data\u001b[39m(\u001b[38;5;28mself\u001b[39m):\n\u001b[1;32m    672\u001b[0m     index \u001b[38;5;241m=\u001b[39m \u001b[38;5;28mself\u001b[39m\u001b[38;5;241m.\u001b[39m_next_index()  \u001b[38;5;66;03m# may raise StopIteration\u001b[39;00m\n\u001b[0;32m--> 673\u001b[0m     data \u001b[38;5;241m=\u001b[39m \u001b[38;5;28;43mself\u001b[39;49m\u001b[38;5;241;43m.\u001b[39;49m\u001b[43m_dataset_fetcher\u001b[49m\u001b[38;5;241;43m.\u001b[39;49m\u001b[43mfetch\u001b[49m\u001b[43m(\u001b[49m\u001b[43mindex\u001b[49m\u001b[43m)\u001b[49m  \u001b[38;5;66;03m# may raise StopIteration\u001b[39;00m\n\u001b[1;32m    674\u001b[0m     \u001b[38;5;28;01mif\u001b[39;00m \u001b[38;5;28mself\u001b[39m\u001b[38;5;241m.\u001b[39m_pin_memory:\n\u001b[1;32m    675\u001b[0m         data \u001b[38;5;241m=\u001b[39m _utils\u001b[38;5;241m.\u001b[39mpin_memory\u001b[38;5;241m.\u001b[39mpin_memory(data, \u001b[38;5;28mself\u001b[39m\u001b[38;5;241m.\u001b[39m_pin_memory_device)\n",
      "File \u001b[0;32m~/anaconda3/envs/ninad/lib/python3.12/site-packages/torch/utils/data/_utils/fetch.py:55\u001b[0m, in \u001b[0;36m_MapDatasetFetcher.fetch\u001b[0;34m(self, possibly_batched_index)\u001b[0m\n\u001b[1;32m     53\u001b[0m \u001b[38;5;28;01melse\u001b[39;00m:\n\u001b[1;32m     54\u001b[0m     data \u001b[38;5;241m=\u001b[39m \u001b[38;5;28mself\u001b[39m\u001b[38;5;241m.\u001b[39mdataset[possibly_batched_index]\n\u001b[0;32m---> 55\u001b[0m \u001b[38;5;28;01mreturn\u001b[39;00m \u001b[38;5;28;43mself\u001b[39;49m\u001b[38;5;241;43m.\u001b[39;49m\u001b[43mcollate_fn\u001b[49m\u001b[43m(\u001b[49m\u001b[43mdata\u001b[49m\u001b[43m)\u001b[49m\n",
      "File \u001b[0;32m~/anaconda3/envs/ninad/lib/python3.12/site-packages/torch/utils/data/_utils/collate.py:317\u001b[0m, in \u001b[0;36mdefault_collate\u001b[0;34m(batch)\u001b[0m\n\u001b[1;32m    256\u001b[0m \u001b[38;5;28;01mdef\u001b[39;00m \u001b[38;5;21mdefault_collate\u001b[39m(batch):\n\u001b[1;32m    257\u001b[0m \u001b[38;5;250m    \u001b[39m\u001b[38;5;124mr\u001b[39m\u001b[38;5;124;03m\"\"\"\u001b[39;00m\n\u001b[1;32m    258\u001b[0m \u001b[38;5;124;03m    Take in a batch of data and put the elements within the batch into a tensor with an additional outer dimension - batch size.\u001b[39;00m\n\u001b[1;32m    259\u001b[0m \n\u001b[0;32m   (...)\u001b[0m\n\u001b[1;32m    315\u001b[0m \u001b[38;5;124;03m        >>> default_collate(batch)  # Handle `CustomType` automatically\u001b[39;00m\n\u001b[1;32m    316\u001b[0m \u001b[38;5;124;03m    \"\"\"\u001b[39;00m\n\u001b[0;32m--> 317\u001b[0m     \u001b[38;5;28;01mreturn\u001b[39;00m \u001b[43mcollate\u001b[49m\u001b[43m(\u001b[49m\u001b[43mbatch\u001b[49m\u001b[43m,\u001b[49m\u001b[43m \u001b[49m\u001b[43mcollate_fn_map\u001b[49m\u001b[38;5;241;43m=\u001b[39;49m\u001b[43mdefault_collate_fn_map\u001b[49m\u001b[43m)\u001b[49m\n",
      "File \u001b[0;32m~/anaconda3/envs/ninad/lib/python3.12/site-packages/torch/utils/data/_utils/collate.py:174\u001b[0m, in \u001b[0;36mcollate\u001b[0;34m(batch, collate_fn_map)\u001b[0m\n\u001b[1;32m    171\u001b[0m transposed \u001b[38;5;241m=\u001b[39m \u001b[38;5;28mlist\u001b[39m(\u001b[38;5;28mzip\u001b[39m(\u001b[38;5;241m*\u001b[39mbatch))  \u001b[38;5;66;03m# It may be accessed twice, so we use a list.\u001b[39;00m\n\u001b[1;32m    173\u001b[0m \u001b[38;5;28;01mif\u001b[39;00m \u001b[38;5;28misinstance\u001b[39m(elem, \u001b[38;5;28mtuple\u001b[39m):\n\u001b[0;32m--> 174\u001b[0m     \u001b[38;5;28;01mreturn\u001b[39;00m [\u001b[43mcollate\u001b[49m\u001b[43m(\u001b[49m\u001b[43msamples\u001b[49m\u001b[43m,\u001b[49m\u001b[43m \u001b[49m\u001b[43mcollate_fn_map\u001b[49m\u001b[38;5;241;43m=\u001b[39;49m\u001b[43mcollate_fn_map\u001b[49m\u001b[43m)\u001b[49m \u001b[38;5;28;01mfor\u001b[39;00m samples \u001b[38;5;129;01min\u001b[39;00m transposed]  \u001b[38;5;66;03m# Backwards compatibility.\u001b[39;00m\n\u001b[1;32m    175\u001b[0m \u001b[38;5;28;01melse\u001b[39;00m:\n\u001b[1;32m    176\u001b[0m     \u001b[38;5;28;01mtry\u001b[39;00m:\n",
      "File \u001b[0;32m~/anaconda3/envs/ninad/lib/python3.12/site-packages/torch/utils/data/_utils/collate.py:142\u001b[0m, in \u001b[0;36mcollate\u001b[0;34m(batch, collate_fn_map)\u001b[0m\n\u001b[1;32m    140\u001b[0m \u001b[38;5;28;01mif\u001b[39;00m collate_fn_map \u001b[38;5;129;01mis\u001b[39;00m \u001b[38;5;129;01mnot\u001b[39;00m \u001b[38;5;28;01mNone\u001b[39;00m:\n\u001b[1;32m    141\u001b[0m     \u001b[38;5;28;01mif\u001b[39;00m elem_type \u001b[38;5;129;01min\u001b[39;00m collate_fn_map:\n\u001b[0;32m--> 142\u001b[0m         \u001b[38;5;28;01mreturn\u001b[39;00m \u001b[43mcollate_fn_map\u001b[49m\u001b[43m[\u001b[49m\u001b[43melem_type\u001b[49m\u001b[43m]\u001b[49m\u001b[43m(\u001b[49m\u001b[43mbatch\u001b[49m\u001b[43m,\u001b[49m\u001b[43m \u001b[49m\u001b[43mcollate_fn_map\u001b[49m\u001b[38;5;241;43m=\u001b[39;49m\u001b[43mcollate_fn_map\u001b[49m\u001b[43m)\u001b[49m\n\u001b[1;32m    144\u001b[0m     \u001b[38;5;28;01mfor\u001b[39;00m collate_type \u001b[38;5;129;01min\u001b[39;00m collate_fn_map:\n\u001b[1;32m    145\u001b[0m         \u001b[38;5;28;01mif\u001b[39;00m \u001b[38;5;28misinstance\u001b[39m(elem, collate_type):\n",
      "File \u001b[0;32m~/anaconda3/envs/ninad/lib/python3.12/site-packages/torch/utils/data/_utils/collate.py:214\u001b[0m, in \u001b[0;36mcollate_tensor_fn\u001b[0;34m(batch, collate_fn_map)\u001b[0m\n\u001b[1;32m    212\u001b[0m     storage \u001b[38;5;241m=\u001b[39m elem\u001b[38;5;241m.\u001b[39m_typed_storage()\u001b[38;5;241m.\u001b[39m_new_shared(numel, device\u001b[38;5;241m=\u001b[39melem\u001b[38;5;241m.\u001b[39mdevice)\n\u001b[1;32m    213\u001b[0m     out \u001b[38;5;241m=\u001b[39m elem\u001b[38;5;241m.\u001b[39mnew(storage)\u001b[38;5;241m.\u001b[39mresize_(\u001b[38;5;28mlen\u001b[39m(batch), \u001b[38;5;241m*\u001b[39m\u001b[38;5;28mlist\u001b[39m(elem\u001b[38;5;241m.\u001b[39msize()))\n\u001b[0;32m--> 214\u001b[0m \u001b[38;5;28;01mreturn\u001b[39;00m \u001b[43mtorch\u001b[49m\u001b[38;5;241;43m.\u001b[39;49m\u001b[43mstack\u001b[49m\u001b[43m(\u001b[49m\u001b[43mbatch\u001b[49m\u001b[43m,\u001b[49m\u001b[43m \u001b[49m\u001b[38;5;241;43m0\u001b[39;49m\u001b[43m,\u001b[49m\u001b[43m \u001b[49m\u001b[43mout\u001b[49m\u001b[38;5;241;43m=\u001b[39;49m\u001b[43mout\u001b[49m\u001b[43m)\u001b[49m\n",
      "\u001b[0;31mKeyboardInterrupt\u001b[0m: "
     ]
    }
   ],
   "source": [
    "kf = KFold(n_splits=K_FOLDS, shuffle=True, random_state=NP_SEED)\n",
    "fold_train_losses, fold_val_losses = [], []\n",
    "fold_train_accuracies, fold_val_accuracies = [], []\n",
    "LOGGER.info(f\"{K_FOLDS} FOLDS CROSS VALIATION TARINING STARTED\")\n",
    "\n",
    "for fold, (train_idx, val_idx) in enumerate(kf.split(train_dataset)):\n",
    "    print(f'Fold {fold+1}/{K_FOLDS}')\n",
    "    LOGGER.info(f'Fold {fold+1}/{K_FOLDS}')\n",
    "    \n",
    "    train_ds = Subset(train_dataset, train_idx)\n",
    "    val_ds = Subset(train_dataset, val_idx)\n",
    "    \n",
    "    train_dl = DataLoader(train_ds, batch_size=BATCH_SIZE, shuffle=True)\n",
    "    val_dl = DataLoader(val_ds, batch_size=BATCH_SIZE, shuffle=False)\n",
    "\n",
    "    model = SFCN().to(DEVICE)\n",
    "    model = nn.DataParallel(model) \n",
    "    optimizer = torch.optim.Adam(model.parameters(), lr=LEARNING_RATE)\n",
    "    \n",
    "    criterion = nn.BCEWithLogitsLoss()\n",
    "\n",
    "    best_val_loss = np.inf\n",
    "    epochs_without_improvement = 0\n",
    "\n",
    "    # Train the model for each fold\n",
    "    for epoch in range(NUM_EPOCHS):\n",
    "        model.train()\n",
    "        train_loss = 0.0\n",
    "        train_total = 0\n",
    "        train_correct = 0\n",
    "\n",
    "        for inputs, labels in train_dl:\n",
    "            inputs = inputs.to(DEVICE)\n",
    "            labels = labels.to(DEVICE)\n",
    "            optimizer.zero_grad()\n",
    "            outputs = model(inputs)\n",
    "            tloss = criterion(outputs, labels)\n",
    "            tloss.backward()\n",
    "            optimizer.step()\n",
    "            train_loss += tloss.item() / inputs.size(0)\n",
    "            probability = torch.sigmoid(outputs)\n",
    "            predicted = (probability >= 0.5).float()\n",
    "            train_total += labels.size(0)\n",
    "            train_correct += (predicted == labels).sum().item()\n",
    "\n",
    "        train_accuracy = 100 * train_correct / train_total\n",
    "        fold_train_accuracies.append(train_accuracy)\n",
    "        fold_train_losses.append(train_loss)\n",
    "\n",
    "        model.eval()\n",
    "        val_loss = 0.0\n",
    "        val_total = 0\n",
    "        val_correct = 0\n",
    "\n",
    "        with torch.no_grad():\n",
    "            for inputs, labels in val_dl:\n",
    "                inputs = inputs.to(DEVICE)\n",
    "                labels = labels.to(DEVICE)\n",
    "                outputs = model(inputs)\n",
    "                vloss = criterion(outputs, labels)\n",
    "                val_loss += vloss.item() / inputs.size(0)\n",
    "                probability = torch.sigmoid(outputs)\n",
    "                predicted = (probability >= 0.5).float()\n",
    "                val_total += labels.size(0)\n",
    "                val_correct += (predicted == labels).sum().item()\n",
    "\n",
    "            val_accuracy = 100 * val_correct / val_total\n",
    "            fold_val_accuracies.append(val_accuracy)\n",
    "            fold_val_losses.append(val_loss)\n",
    "\n",
    "            print(f\"Fold [{fold+1}/{K_FOLDS}], Epoch [{epoch+1}/{NUM_EPOCHS}]: Train Loss: {train_loss:.4f} Train Accu: {train_accuracy:.2f}% Val Loss: {val_loss:.4f} Val Accu: {val_accuracy:.2f}%\")\n",
    "            LOGGER.info(f\"Fold [{fold+1}/{K_FOLDS}], Epoch [{epoch+1}/{NUM_EPOCHS}]: Train Loss: {train_loss:.4f} Train Accu: {train_accuracy:.2f}% Val Loss: {val_loss:.4f} Val Accu: {val_accuracy:.2f}%\")\n",
    "        \n",
    "        # Early stopping\n",
    "        if epoch > 30:\n",
    "            if val_loss < best_val_loss:\n",
    "                best_val_loss = val_loss\n",
    "                epochs_without_improvement = 0 \n",
    "\n",
    "                new_state_dict = {}\n",
    "                for key, value in model.state_dict().items():\n",
    "                    new_key = key.replace(\"module.\", \"\")\n",
    "                    new_state_dict[new_key] = value\n",
    "                best_model.load_state_dict(new_state_dict)\n",
    "\n",
    "                # torch.save(model.state_dict(), f'{RESULT_DIR}/model_{fold+1}_epoch{epoch}.pt') # will create a lot of model and take a lot of space\n",
    "                LOGGER.info(f\"Validation loss improved for fold {fold+1} at epoch {epoch+1}\")\n",
    "            else:\n",
    "                epochs_without_improvement += 1\n",
    "                LOGGER.info(f\"No improvement in validation loss for {epochs_without_improvement} epochs for fold {fold+1}\")\n",
    "\n",
    "            if epochs_without_improvement >= EARLY_STOPPING_PATIENCE:\n",
    "                print(f\"Early stopping triggered for fold {fold+1} at epoch {epoch+1}\")\n",
    "                LOGGER.info(f\"Early stopping triggered for fold {fold+1} at epoch {epoch+1}\")\n",
    "                ## save best model before stopping\n",
    "                torch.save(model.state_dict(), f'{RESULT_DIR}/best_model_{fold+1}_epoch{epoch}.pt')\n",
    "                break\n",
    "    \n",
    "    torch.save(model.state_dict(), f'{RESULT_DIR}/best_model_{fold+1}_epoch{epoch}.pt') ## save model as best model if the training ends for a fold\n",
    "\n",
    "# Aggregate the results across all folds\n",
    "avg_train_loss = np.mean(fold_train_losses)\n",
    "avg_val_loss = np.mean(fold_val_losses)\n",
    "avg_train_accuracy = np.mean(fold_train_accuracies)\n",
    "avg_val_accuracy = np.mean(fold_val_accuracies)\n",
    "\n",
    "print(f\"Avg Train Loss: {avg_train_loss:.4f}, Avg Train Accu: {avg_train_accuracy:.2f}%, Avg Val Loss: {avg_val_loss:.4f}, Avg Val Accu: {avg_val_accuracy:.2f}%\")\n",
    "LOGGER.info(f\"Avg Train Loss: {avg_train_loss:.4f}, Avg Train Accu: {avg_train_accuracy:.2f}%, Avg Val Loss: {avg_val_loss:.4f}, Avg Val Accu: {avg_val_accuracy:.2f}%\")"
   ]
  },
  {
   "cell_type": "markdown",
   "metadata": {},
   "source": [
    "Testing remains the same"
   ]
  },
  {
   "cell_type": "code",
   "execution_count": 24,
   "metadata": {},
   "outputs": [
    {
     "name": "stdout",
     "output_type": "stream",
     "text": [
      "TEST LOSS: 14.311684928834438, TEST ACCURACY: 89.94082840236686\n",
      "Accuracy: 0.8994082840236687, Sensitivity (Recall): 0.9354838709677419\n",
      "CM:  [[65 11]\n",
      " [ 6 87]]\n"
     ]
    },
    {
     "data": {
      "image/png": "[encoded data removed]",
      "text/plain": [
       "<Figure size 800x600 with 2 Axes>"
      ]
     },
     "metadata": {},
     "output_type": "display_data"
    }
   ],
   "source": [
    "best_model = SFCN()\n",
    "\n",
    "best_model_state_dict = torch.load('/home/neelamlab/ninad/DWI/results/run_07_11_2024_16_27_35/best_model_2_epoch9.pt', weights_only=True)\n",
    "new_state_dict = {}\n",
    "for key, value in best_model_state_dict.items():\n",
    "    new_key = key.replace(\"module.\", \"\")\n",
    "    new_state_dict[new_key] = value\n",
    "best_model.load_state_dict(new_state_dict)\n",
    "\n",
    "best_model.to(DEVICE)\n",
    "best_model.eval()\n",
    "test_loss = 0.0\n",
    "test_total = 0\n",
    "test_correct = 0\n",
    "\n",
    "with torch.no_grad():\n",
    "    all_predicted = []\n",
    "    all_labels = []\n",
    "    for inputs, labels in test_dl:\n",
    "        inputs = inputs.to(DEVICE)\n",
    "        labels = labels.to(DEVICE)\n",
    "        \n",
    "        outputs = best_model(inputs)\n",
    "        te_loss = criterion(outputs, labels)\n",
    "        test_loss += te_loss.item()/inputs.size(0)\n",
    "        probability = torch.sigmoid(outputs)\n",
    "        predicted = (probability >= 0.5).float()\n",
    "        all_predicted.extend(predicted.cpu().numpy().ravel().tolist())\n",
    "        all_labels.extend(labels.cpu().numpy().ravel().tolist())\n",
    "        test_total += labels.size(0)\n",
    "        test_correct += (predicted == labels).sum().item()\n",
    "\n",
    "    test_accuracy = 100 * test_correct / test_total\n",
    "\n",
    "print(f\"TEST LOSS: {test_loss}, TEST ACCURACY: {test_accuracy}\")\n",
    "LOGGER.info(f\"TEST LOSS: {test_loss}, TEST ACCURACY: {test_accuracy}\")\n",
    "accuracy = accuracy_score(all_labels, all_predicted)\n",
    "sensitivity = recall_score(all_labels, all_predicted)\n",
    "print(f'Accuracy: {accuracy}, Sensitivity (Recall): {sensitivity}')\n",
    "LOGGER.info(f'Accuracy: {accuracy}, Sensitivity (Recall): {sensitivity}')\n",
    "\n",
    "cm = confusion_matrix(all_labels, all_predicted)\n",
    "print('CM: ',cm)\n",
    "LOGGER.info(f\"CM : {cm}\")\n",
    "plt.figure(figsize=(8, 6))\n",
    "sns.heatmap(cm, annot=True, fmt=\"d\", cmap=\"Blues\",xticklabels=['Male', 'Female'], yticklabels=['Male', 'Female'])\n",
    "plt.title('Confusion Matrix')\n",
    "plt.xlabel('Predicted')\n",
    "plt.ylabel('True')\n",
    "plt.savefig('cm.png')"
   ]
  }
 ],
 "metadata": {
  "kernelspec": {
   "display_name": "ninad",
   "language": "python",
   "name": "python3"
  },
  "language_info": {
   "codemirror_mode": {
    "name": "ipython",
    "version": 3
   },
   "file_extension": ".py",
   "mimetype": "text/x-python",
   "name": "python",
   "nbconvert_exporter": "python",
   "pygments_lexer": "ipython3",
   "version": "3.12.5"
  }
 },
 "nbformat": 4,
 "nbformat_minor": 2
}
